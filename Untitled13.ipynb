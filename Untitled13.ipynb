{
  "nbformat": 4,
  "nbformat_minor": 0,
  "metadata": {
    "colab": {
      "name": "Untitled13.ipynb",
      "provenance": [],
      "toc_visible": true,
      "mount_file_id": "1RBDhfjDVasW_XFSLvYgPBZ_NWtfk13Fa",
      "authorship_tag": "ABX9TyN6jkfqUBq6+bAJa+dVI3Qp",
      "include_colab_link": true
    },
    "kernelspec": {
      "name": "python3",
      "display_name": "Python 3"
    }
  },
  "cells": [
    {
      "cell_type": "markdown",
      "metadata": {
        "id": "view-in-github",
        "colab_type": "text"
      },
      "source": [
        "<a href=\"https://colab.research.google.com/github/Deepaansi/LR/blob/master/Untitled13.ipynb\" target=\"_parent\"><img src=\"https://colab.research.google.com/assets/colab-badge.svg\" alt=\"Open In Colab\"/></a>"
      ]
    },
    {
      "cell_type": "code",
      "metadata": {
        "id": "GfR0Tg9lDYpN",
        "colab_type": "code",
        "colab": {
          "base_uri": "https://localhost:8080/",
          "height": 34
        },
        "outputId": "ee0d6096-8ca2-47b9-df6c-7878bab42bae"
      },
      "source": [
        "import numpy as np\n",
        "X=np.array([1,2,3,4,5])\n",
        "Y=np.array([2,4,5,4,5])\n",
        "mean_X=np.mean(X)\n",
        "mean_Y=np.mean(Y)\n",
        "\n",
        "\n",
        "n=len(X)\n",
        "print(n)"
      ],
      "execution_count": 2,
      "outputs": [
        {
          "output_type": "stream",
          "text": [
            "5\n"
          ],
          "name": "stdout"
        }
      ]
    },
    {
      "cell_type": "code",
      "metadata": {
        "id": "wvvXhaeJD-wE",
        "colab_type": "code",
        "colab": {
          "base_uri": "https://localhost:8080/",
          "height": 51
        },
        "outputId": "465e1fcc-0e94-49bb-dcb8-8c6e0295db31"
      },
      "source": [
        "num=0\n",
        "denom=0\n",
        "for i in range(n):\n",
        "  num=num+(X[i]-mean_X)*(Y[i]-mean_Y)\n",
        "denom=denom+(X[i]-mean_X)**2\n",
        "print(num)\n",
        "print(denom)"
      ],
      "execution_count": 4,
      "outputs": [
        {
          "output_type": "stream",
          "text": [
            "6.0\n",
            "4.0\n"
          ],
          "name": "stdout"
        }
      ]
    },
    {
      "cell_type": "code",
      "metadata": {
        "id": "9mm8E2DQN_d2",
        "colab_type": "code",
        "colab": {}
      },
      "source": [
        ""
      ],
      "execution_count": 0,
      "outputs": []
    },
    {
      "cell_type": "code",
      "metadata": {
        "id": "5l7DuA62EWKY",
        "colab_type": "code",
        "colab": {
          "base_uri": "https://localhost:8080/",
          "height": 51
        },
        "outputId": "3ec385c2-472e-4762-804a-d0b46be49f07"
      },
      "source": [
        "m_slope=num/denom\n",
        "c_intercept=mean_Y-(m_slope*mean_X)\n",
        "print(\"Slope=\",m_slope)\n",
        "print(\"Intercept\",c_intercept)"
      ],
      "execution_count": 5,
      "outputs": [
        {
          "output_type": "stream",
          "text": [
            "Slope= 1.5\n",
            "Intercept -0.5\n"
          ],
          "name": "stdout"
        }
      ]
    },
    {
      "cell_type": "code",
      "metadata": {
        "id": "WdqtKFBgEYhl",
        "colab_type": "code",
        "colab": {
          "base_uri": "https://localhost:8080/",
          "height": 34
        },
        "outputId": "39dbc17b-4188-470a-df71-1dee21c10700"
      },
      "source": [
        "min_X=np.min(X)\n",
        "max_Y=np.max(Y)\n",
        "print(min_X,max_Y)"
      ],
      "execution_count": 6,
      "outputs": [
        {
          "output_type": "stream",
          "text": [
            "1 5\n"
          ],
          "name": "stdout"
        }
      ]
    },
    {
      "cell_type": "code",
      "metadata": {
        "id": "S8EJNzYREjX8",
        "colab_type": "code",
        "colab": {
          "base_uri": "https://localhost:8080/",
          "height": 34
        },
        "outputId": "254344d0-6d13-4200-e80a-f078c2b6e007"
      },
      "source": [
        "y_pred=0\n",
        "l=[]\n",
        "for i in range(n):\n",
        "  y_pred=m_slope*X[i]+c_intercept\n",
        "  l.append(y_pred)\n",
        "print(l)\n",
        "yy=np.array(l)"
      ],
      "execution_count": 10,
      "outputs": [
        {
          "output_type": "stream",
          "text": [
            "[1.0, 2.5, 4.0, 5.5, 7.0]\n"
          ],
          "name": "stdout"
        }
      ]
    },
    {
      "cell_type": "code",
      "metadata": {
        "id": "XE9B3ZkVE_C1",
        "colab_type": "code",
        "colab": {
          "base_uri": "https://localhost:8080/",
          "height": 282
        },
        "outputId": "ec15b284-68b5-48c6-dbc4-e722aea1182f"
      },
      "source": [
        "import matplotlib.pyplot as plt\n",
        "plt.plot(X,yy)\n",
        "plt.scatter(X,Y)"
      ],
      "execution_count": 11,
      "outputs": [
        {
          "output_type": "execute_result",
          "data": {
            "text/plain": [
              "<matplotlib.collections.PathCollection at 0x7f6b319d5f98>"
            ]
          },
          "metadata": {
            "tags": []
          },
          "execution_count": 11
        },
        {
          "output_type": "display_data",
          "data": {
            "image/png": "[encoded data removed]",
            "text/plain": [
              "<Figure size 432x288 with 1 Axes>"
            ]
          },
          "metadata": {
            "tags": []
          }
        }
      ]
    },
    {
      "cell_type": "code",
      "metadata": {
        "id": "BvOi9wQsFSpq",
        "colab_type": "code",
        "colab": {
          "base_uri": "https://localhost:8080/",
          "height": 68
        },
        "outputId": "bf1b837d-0654-4e6e-8d3d-53d4f3433d45"
      },
      "source": [
        "n1=0\n",
        "n2=0\n",
        "n3=0\n",
        "for i in range(n):\n",
        "  n1=n1+(Y[i]-np.mean(Y))**2\n",
        "  n2=n2+(yy[i]-np.mean(Y))**2\n",
        "  n3=n3+(yy[i]-Y[i])**2\n",
        "print(n1)\n",
        "print(n2)\n",
        "print(n3)"
      ],
      "execution_count": 14,
      "outputs": [
        {
          "output_type": "stream",
          "text": [
            "6.0\n",
            "22.5\n",
            "10.5\n"
          ],
          "name": "stdout"
        }
      ]
    },
    {
      "cell_type": "code",
      "metadata": {
        "id": "CHOrrQ3PDJaa",
        "colab_type": "code",
        "colab": {
          "base_uri": "https://localhost:8080/",
          "height": 34
        },
        "outputId": "a4a114dc-4de2-4bf0-a885-af3cd6e63ad9"
      },
      "source": [
        "RR=n2/n1\n",
        "print(\"R Square=\",RR)"
      ],
      "execution_count": 15,
      "outputs": [
        {
          "output_type": "stream",
          "text": [
            "R Square= 3.75\n"
          ],
          "name": "stdout"
        }
      ]
    },
    {
      "cell_type": "code",
      "metadata": {
        "id": "2EotCwCbKEyT",
        "colab_type": "code",
        "colab": {
          "base_uri": "https://localhost:8080/",
          "height": 34
        },
        "outputId": "ceaa3dae-6133-4b9a-a2a3-055eb2630b9f"
      },
      "source": [
        "for i in range(n):\n",
        "  stderr=np.sqrt(n3/(n-2))\n",
        "print(stderr)"
      ],
      "execution_count": 17,
      "outputs": [
        {
          "output_type": "stream",
          "text": [
            "1.8708286933869707\n"
          ],
          "name": "stdout"
        }
      ]
    },
    {
      "cell_type": "code",
      "metadata": {
        "id": "heLmXG1kOA20",
        "colab_type": "code",
        "colab": {}
      },
      "source": [
        ""
      ],
      "execution_count": 0,
      "outputs": []
    }
  ]
}